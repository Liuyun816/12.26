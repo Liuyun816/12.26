{
 "cells": [
  {
   "cell_type": "markdown",
   "metadata": {},
   "source": [
    "## 面向对象"
   ]
  },
  {
   "cell_type": "code",
   "execution_count": 3,
   "metadata": {},
   "outputs": [
    {
     "name": "stdout",
     "output_type": "stream",
     "text": [
      "Hello,l'm Zhang San.\n",
      "Hello,l'm Li Si.\n"
     ]
    }
   ],
   "source": [
    "class Person:                                         ##self是和某个对象绑定的，class表示一个类\n",
    "    def set_name(self,name):\n",
    "        self.name = name\n",
    "        \n",
    "    def get_name(self):\n",
    "        return self.name\n",
    "    \n",
    "    def greet(self):\n",
    "        print(\"Hello,l'm {}.\".format(self.name))\n",
    "        \n",
    "zs = Person()\n",
    "zs.set_name('Zhang San')\n",
    "zs.greet()\n",
    "ls = Person()\n",
    "ls.set_name('Li Si')\n",
    "ls.greet()"
   ]
  },
  {
   "cell_type": "code",
   "execution_count": 30,
   "metadata": {},
   "outputs": [
    {
     "name": "stdout",
     "output_type": "stream",
     "text": [
      "Total number of person:1\n",
      "Total number of person:2\n",
      "Hello,l'm Zhang San.\n",
      "Hello,l'm Li Si.\n",
      "Total number of person:3\n"
     ]
    }
   ],
   "source": [
    "class Person:                                         ##self是和某个对象绑定的，class表示一个类\n",
    "    count = 0                                                  ##__name可以将对象隐藏掉\n",
    " \n",
    "    def __init__(self,name=None):\n",
    "        self.__name = name\n",
    "        Person.count += 1\n",
    "        print('Total number of person:{}'.format(Person.count))\n",
    "\n",
    "    def set_name(self,name):\n",
    "        self.__name = name\n",
    "        \n",
    "    def set_name(self,name):\n",
    "       # assert(isinstance(name,str))\n",
    "        if isinstance(name,str):\n",
    "            self.__name = name\n",
    "        else:\n",
    "            print('Not a valid name.')\n",
    "\n",
    "    def get_name(self):\n",
    "        return self.__name\n",
    "    \n",
    "    def greet(self):\n",
    "        print(\"Hello,l'm {}.\".format(self.__name))\n",
    "\n",
    "        \n",
    "zs = Person('Zhang San')\n",
    "ls = Person('Li Si')\n",
    "zs.greet()\n",
    "ls.greet()\n",
    "ww = Person()"
   ]
  },
  {
   "cell_type": "code",
   "execution_count": 19,
   "metadata": {},
   "outputs": [
    {
     "data": {
      "text/plain": [
       "True"
      ]
     },
     "execution_count": 19,
     "metadata": {},
     "output_type": "execute_result"
    }
   ],
   "source": [
    "isinstance('hello',str)"
   ]
  },
  {
   "cell_type": "code",
   "execution_count": 31,
   "metadata": {},
   "outputs": [
    {
     "name": "stdout",
     "output_type": "stream",
     "text": [
      "Not a valid name.\n"
     ]
    }
   ],
   "source": [
    "zs.set_name(1)"
   ]
  },
  {
   "cell_type": "code",
   "execution_count": 33,
   "metadata": {},
   "outputs": [],
   "source": [
    "zs.name = 1"
   ]
  },
  {
   "cell_type": "code",
   "execution_count": 32,
   "metadata": {},
   "outputs": [
    {
     "name": "stdout",
     "output_type": "stream",
     "text": [
      "Hello,l'm Zhang San.\n"
     ]
    }
   ],
   "source": [
    "zs.greet()"
   ]
  },
  {
   "cell_type": "code",
   "execution_count": 75,
   "metadata": {},
   "outputs": [
    {
     "name": "stdout",
     "output_type": "stream",
     "text": [
      "Hello,l'm Zhang San.\n",
      "Hello,l'm Zhang San.\n"
     ]
    }
   ],
   "source": [
    "class Person:                                         ##self是和某个对象绑定的，class表示一个类\n",
    "    count = 0\n",
    "\n",
    "    def __init__(self,name=None):\n",
    "        self.__name = name\n",
    "\n",
    "\n",
    "    def set_name(self,name):\n",
    "       # assert(isinstance(name,str))\n",
    "        if isinstance(name,str):\n",
    "            self.__name = name\n",
    "        else:\n",
    "            print('Not a valid name.')\n",
    "\n",
    "\n",
    "    def get_name(self):\n",
    "        return self.__name\n",
    " \n",
    "    def greet(self):\n",
    "        self.greet_once()\n",
    "        self.greet_once()\n",
    "     \n",
    "    def greet_once(self):\n",
    "        print(\"Hello,l'm {}.\".format(self.__name))   \n",
    "    \n",
    "    \n",
    "        \n",
    "zs = Person('Zhang San')\n",
    "zs.greet()"
   ]
  },
  {
   "cell_type": "code",
   "execution_count": 34,
   "metadata": {},
   "outputs": [
    {
     "data": {
      "text/plain": [
       "{'_Person__name': 'Zhang San', 'name': 1}"
      ]
     },
     "execution_count": 34,
     "metadata": {},
     "output_type": "execute_result"
    }
   ],
   "source": [
    "zs.__dict__"
   ]
  },
  {
   "cell_type": "code",
   "execution_count": 35,
   "metadata": {},
   "outputs": [
    {
     "name": "stdout",
     "output_type": "stream",
     "text": [
      "Zhang San\n"
     ]
    }
   ],
   "source": [
    "print(zs._Person__name)"
   ]
  },
  {
   "cell_type": "code",
   "execution_count": 39,
   "metadata": {},
   "outputs": [],
   "source": [
    "zs._Person__name = 1"
   ]
  },
  {
   "cell_type": "code",
   "execution_count": 40,
   "metadata": {},
   "outputs": [
    {
     "name": "stdout",
     "output_type": "stream",
     "text": [
      "Hello,l'm 1.\n",
      "Hello,l'm 1.\n"
     ]
    }
   ],
   "source": [
    "zs.greet()"
   ]
  },
  {
   "cell_type": "code",
   "execution_count": 41,
   "metadata": {},
   "outputs": [
    {
     "name": "stdout",
     "output_type": "stream",
     "text": [
      "Total number of person:2\n"
     ]
    }
   ],
   "source": [
    "zs = Person('Zhang San')\n",
    "zs.__name = 'test'"
   ]
  },
  {
   "cell_type": "code",
   "execution_count": 42,
   "metadata": {},
   "outputs": [
    {
     "data": {
      "text/plain": [
       "{'_Person__name': 'Zhang San', '__name': 'test'}"
      ]
     },
     "execution_count": 42,
     "metadata": {},
     "output_type": "execute_result"
    }
   ],
   "source": [
    "zs.__dict__"
   ]
  },
  {
   "cell_type": "code",
   "execution_count": 43,
   "metadata": {},
   "outputs": [
    {
     "name": "stdout",
     "output_type": "stream",
     "text": [
      "Help on class Person in module __main__:\n",
      "\n",
      "class Person(builtins.object)\n",
      " |  Person(name=None)\n",
      " |  \n",
      " |  Methods defined here:\n",
      " |  \n",
      " |  __init__(self, name=None)\n",
      " |      Initialize self.  See help(type(self)) for accurate signature.\n",
      " |  \n",
      " |  get_name(self)\n",
      " |  \n",
      " |  greet(self)\n",
      " |  \n",
      " |  greet_once(self)\n",
      " |  \n",
      " |  set_name(self, name)\n",
      " |  \n",
      " |  ----------------------------------------------------------------------\n",
      " |  Data descriptors defined here:\n",
      " |  \n",
      " |  __dict__\n",
      " |      dictionary for instance variables (if defined)\n",
      " |  \n",
      " |  __weakref__\n",
      " |      list of weak references to the object (if defined)\n",
      " |  \n",
      " |  ----------------------------------------------------------------------\n",
      " |  Data and other attributes defined here:\n",
      " |  \n",
      " |  count = 2\n",
      "\n"
     ]
    }
   ],
   "source": [
    "help(Person)"
   ]
  },
  {
   "cell_type": "code",
   "execution_count": 62,
   "metadata": {},
   "outputs": [
    {
     "ename": "IndentationError",
     "evalue": "unindent does not match any outer indentation level (<tokenize>, line 10)",
     "output_type": "error",
     "traceback": [
      "\u001b[1;36m  File \u001b[1;32m\"<tokenize>\"\u001b[1;36m, line \u001b[1;32m10\u001b[0m\n\u001b[1;33m    if isinstance(name,str):\u001b[0m\n\u001b[1;37m    ^\u001b[0m\n\u001b[1;31mIndentationError\u001b[0m\u001b[1;31m:\u001b[0m unindent does not match any outer indentation level\n"
     ]
    }
   ],
   "source": [
    "class Person:                                         ##self是和某个对象绑定的，class表示一个类\n",
    "   '''This class can be used to represent a person. '''\n",
    "\n",
    "    def __init__(self,name:str=None):\n",
    "        self.__name = name\n",
    "\n",
    "    def set_name(self,name):\n",
    "         ''' Set the name of person.name must be a str.'''\n",
    "        # assert(isinstance(name,str))\n",
    "        if isinstance(name,str):\n",
    "            self.__name = name\n",
    "        else:\n",
    "            print('Not a valid name.')\n",
    " \n",
    "    def get_name(self)->str:\n",
    "        ''' Return the name of the person.'''\n",
    "        return self.__name\n",
    " \n",
    "    def __greet_once(self):\n",
    "        print(\"Hello,l'm {}.\".format(self.__name))   \n",
    "\n",
    "    def greet(self):\n",
    "        self.greet_once()\n",
    "        self.greet_once()\n",
    "     "
   ]
  },
  {
   "cell_type": "markdown",
   "metadata": {},
   "source": [
    "## 面向对象的多态"
   ]
  },
  {
   "cell_type": "code",
   "execution_count": 55,
   "metadata": {},
   "outputs": [
    {
     "data": {
      "text/plain": [
       "3"
      ]
     },
     "execution_count": 55,
     "metadata": {},
     "output_type": "execute_result"
    }
   ],
   "source": [
    "1+2"
   ]
  },
  {
   "cell_type": "code",
   "execution_count": 56,
   "metadata": {},
   "outputs": [
    {
     "data": {
      "text/plain": [
       "'ab'"
      ]
     },
     "execution_count": 56,
     "metadata": {},
     "output_type": "execute_result"
    }
   ],
   "source": [
    "'a'+'b'"
   ]
  },
  {
   "cell_type": "code",
   "execution_count": 58,
   "metadata": {},
   "outputs": [
    {
     "name": "stdout",
     "output_type": "stream",
     "text": [
      "1\n"
     ]
    }
   ],
   "source": [
    "print('hello'.count('e'))"
   ]
  },
  {
   "cell_type": "code",
   "execution_count": 59,
   "metadata": {},
   "outputs": [
    {
     "name": "stdout",
     "output_type": "stream",
     "text": [
      "2\n"
     ]
    }
   ],
   "source": [
    "print([1,2,3,'e','e',4].count('e'))"
   ]
  },
  {
   "cell_type": "code",
   "execution_count": 60,
   "metadata": {},
   "outputs": [
    {
     "name": "stdout",
     "output_type": "stream",
     "text": [
      "1\n",
      "2\n"
     ]
    }
   ],
   "source": [
    "my_list = ['hello',[1,2,3,'e','e',4]]\n",
    "for item in my_list:\n",
    "    print(item.count('e'))"
   ]
  },
  {
   "cell_type": "code",
   "execution_count": 63,
   "metadata": {},
   "outputs": [
    {
     "name": "stdout",
     "output_type": "stream",
     "text": [
      "meow...\n",
      "wang,wang...\n",
      "wang,wang...\n"
     ]
    }
   ],
   "source": [
    "class Cat:\n",
    "    def meow(self):\n",
    "        print('meow...')\n",
    "        \n",
    "class Dog:\n",
    "    def wang(self):\n",
    "        print('wang,wang...')\n",
    "    \n",
    "pets = list()\n",
    "pets.append(Cat())\n",
    "pets.append(Dog())\n",
    "pets.append(Dog())\n",
    "\n",
    "for item in pets:\n",
    "    if isinstance(item,Cat):\n",
    "        item.meow()\n",
    "    elif isinstance(item,Dog):\n",
    "        item.wang()\n",
    "    else:\n",
    "        pass    "
   ]
  },
  {
   "cell_type": "code",
   "execution_count": 66,
   "metadata": {},
   "outputs": [
    {
     "name": "stdout",
     "output_type": "stream",
     "text": [
      "meow...\n",
      "wang,wang...\n",
      "meow...\n"
     ]
    }
   ],
   "source": [
    "class Cat:\n",
    "    def talk(self):\n",
    "        print('meow...')\n",
    "        \n",
    "class Dog:\n",
    "    def talk(self):\n",
    "        print('wang,wang...')\n",
    "    \n",
    "pets = [Cat(),Dog(),Cat()]\n",
    "\n",
    "for item in pets:\n",
    "    item.talk()"
   ]
  },
  {
   "cell_type": "code",
   "execution_count": 71,
   "metadata": {},
   "outputs": [
    {
     "name": "stdout",
     "output_type": "stream",
     "text": [
      "4\n",
      "ab\n"
     ]
    }
   ],
   "source": [
    "def add(a,b):\n",
    "    return a+b\n",
    "\n",
    "a = 1\n",
    "b = 3\n",
    "print(add(a,b))\n",
    "x,y = 'a','b'\n",
    "print(add(x,y))"
   ]
  },
  {
   "cell_type": "markdown",
   "metadata": {},
   "source": [
    "### inheritence\n",
    "子类和父类的关系，子类继承了父类的所有的属性"
   ]
  },
  {
   "cell_type": "code",
   "execution_count": 91,
   "metadata": {},
   "outputs": [
    {
     "name": "stdout",
     "output_type": "stream",
     "text": [
      "Hello,l'm Zhang San.\n",
      "Hello,l'm Zhang San.\n",
      "My score is :100\n"
     ]
    }
   ],
   "source": [
    "class Student(Person):\n",
    "    def __init__(self,name=None):\n",
    "        Person.__init__(self,name)\n",
    "        self.score = 60\n",
    "\n",
    "    def set_score(self,score):\n",
    "        self.__score = score\n",
    "    \n",
    "    def get_score(self):\n",
    "        return self.__score\n",
    "    \n",
    "    def show_score(self):\n",
    "        print('My score is :{}'.format(self.__score))\n",
    "    \n",
    "    def greet(self):\n",
    "        Person.greet(self)\n",
    "        self.show_score()\n",
    "        \n",
    "zs = Student(\"Zhang San\")\n",
    "#zs.set_name()\n",
    "zs.set_score(100)\n",
    "zs.greet()\n",
    "#zs.show_score()"
   ]
  },
  {
   "cell_type": "code",
   "execution_count": 92,
   "metadata": {},
   "outputs": [
    {
     "name": "stdout",
     "output_type": "stream",
     "text": [
      "Hello,l'm Zhang San.\n",
      "Hello,l'm Zhang San.\n",
      "Hello,l'm Li Si.\n",
      "Hello,l'm Li Si.\n",
      "My score is :100\n"
     ]
    }
   ],
   "source": [
    "people = list()\n",
    "zs = Person('Zhang San')\n",
    "ls = Student('Li Si')\n",
    "ls.set_score(100)\n",
    "people.append(zs)\n",
    "people.append(ls)\n",
    "\n",
    "for p in people:\n",
    "    p.greet()"
   ]
  },
  {
   "cell_type": "code",
   "execution_count": 93,
   "metadata": {},
   "outputs": [
    {
     "data": {
      "text/plain": [
       "True"
      ]
     },
     "execution_count": 93,
     "metadata": {},
     "output_type": "execute_result"
    }
   ],
   "source": [
    "issubclass(Student,Person)          #判别Student 是person的子类吗"
   ]
  },
  {
   "cell_type": "code",
   "execution_count": 94,
   "metadata": {},
   "outputs": [
    {
     "data": {
      "text/plain": [
       "True"
      ]
     },
     "execution_count": 94,
     "metadata": {},
     "output_type": "execute_result"
    }
   ],
   "source": [
    "isinstance(zs,Person)"
   ]
  },
  {
   "cell_type": "code",
   "execution_count": 95,
   "metadata": {},
   "outputs": [
    {
     "data": {
      "text/plain": [
       "True"
      ]
     },
     "execution_count": 95,
     "metadata": {},
     "output_type": "execute_result"
    }
   ],
   "source": [
    "isinstance(ls,Person)"
   ]
  },
  {
   "cell_type": "code",
   "execution_count": 96,
   "metadata": {},
   "outputs": [
    {
     "data": {
      "text/plain": [
       "True"
      ]
     },
     "execution_count": 96,
     "metadata": {},
     "output_type": "execute_result"
    }
   ],
   "source": [
    "isinstance(ls,Student)"
   ]
  },
  {
   "cell_type": "code",
   "execution_count": 97,
   "metadata": {},
   "outputs": [
    {
     "data": {
      "text/plain": [
       "False"
      ]
     },
     "execution_count": 97,
     "metadata": {},
     "output_type": "execute_result"
    }
   ],
   "source": [
    "isinstance(zs,Student)"
   ]
  },
  {
   "cell_type": "code",
   "execution_count": 98,
   "metadata": {},
   "outputs": [
    {
     "data": {
      "text/plain": [
       "__main__.Student"
      ]
     },
     "execution_count": 98,
     "metadata": {},
     "output_type": "execute_result"
    }
   ],
   "source": [
    "ls.__class__        ##访问具体对象的类到底是啥"
   ]
  },
  {
   "cell_type": "code",
   "execution_count": 103,
   "metadata": {},
   "outputs": [
    {
     "data": {
      "text/plain": [
       "[1, 2, 3]"
      ]
     },
     "execution_count": 103,
     "metadata": {},
     "output_type": "execute_result"
    }
   ],
   "source": [
    "class Filter:\n",
    "    def __init__(self):\n",
    "        self.blocked = []\n",
    "        \n",
    "    def filter(self,sequence):\n",
    "        return[x for x in sequence if x not in self.blocked]\n",
    "    \n",
    "#class SpamFilter(Filter):\n",
    "#    def __init__(self):\n",
    "#        self.blocked = ['SPAM']\n",
    "    \n",
    "f = Filter()\n",
    "f.filter([1,2,3])"
   ]
  },
  {
   "cell_type": "code",
   "execution_count": 102,
   "metadata": {},
   "outputs": [
    {
     "data": {
      "text/plain": [
       "['bacon', 'eggs', 'sausage']"
      ]
     },
     "execution_count": 102,
     "metadata": {},
     "output_type": "execute_result"
    }
   ],
   "source": [
    "sf = SpamFilter()\n",
    "sf.filter(['SPAM','SPAM','bacon','eggs','sausage','SPAM'])"
   ]
  },
  {
   "cell_type": "code",
   "execution_count": 104,
   "metadata": {},
   "outputs": [
    {
     "data": {
      "text/plain": [
       "['bacon', 'eggs', 'sausage']"
      ]
     },
     "execution_count": 104,
     "metadata": {},
     "output_type": "execute_result"
    }
   ],
   "source": [
    "sf = Filter()\n",
    "sf.blocked = ['SPAM']\n",
    "sf.filter(['SPAM','SPAM','bacon','eggs','sausage','SPAM'])"
   ]
  },
  {
   "cell_type": "code",
   "execution_count": 109,
   "metadata": {},
   "outputs": [
    {
     "name": "stdout",
     "output_type": "stream",
     "text": [
      "My value is : 6\n"
     ]
    }
   ],
   "source": [
    "class Calculator:\n",
    "    def calculate(self,expression):\n",
    "        return eval(expression)\n",
    "        \n",
    "class Talker:\n",
    "    def talk(self,value):\n",
    "        print('My value is :',value)\n",
    "        \n",
    "class TalkingCalculator(Calculator,Talker):\n",
    "    pass\n",
    "\n",
    "tc = TalkingCalculator()\n",
    "result = tc.calculate('1+2+3')\n",
    "tc.talk(result)"
   ]
  },
  {
   "cell_type": "markdown",
   "metadata": {},
   "source": [
    "##\n",
    "*is a\n",
    "*has a"
   ]
  },
  {
   "cell_type": "code",
   "execution_count": 111,
   "metadata": {},
   "outputs": [
    {
     "name": "stdout",
     "output_type": "stream",
     "text": [
      "My value is : 6\n"
     ]
    }
   ],
   "source": [
    "class Calculator:\n",
    "    def calculate(self,expression):\n",
    "        return eval(expression)\n",
    "        \n",
    "class Talker:\n",
    "    def talk(self,value):\n",
    "        print('My value is :',value)\n",
    "        \n",
    "class TalkingCalculator:\n",
    "    def __init__(self):\n",
    "        self.__calculator = Calculator()\n",
    "        self.__talker = Talker()\n",
    "        self.value = None\n",
    "        \n",
    "    def calculate(self,expression):\n",
    "        self.__value = self.__calculator.calculate(expression)\n",
    "        \n",
    "    def talk(self):\n",
    "        self.__talker.talk(self.__value)\n",
    "\n",
    "tc = TalkingCalculator()\n",
    "tc.calculate('1+2+3')\n",
    "tc.talk()"
   ]
  }
 ],
 "metadata": {
  "kernelspec": {
   "display_name": "Python 3",
   "language": "python",
   "name": "python3"
  },
  "language_info": {
   "codemirror_mode": {
    "name": "ipython",
    "version": 3
   },
   "file_extension": ".py",
   "mimetype": "text/x-python",
   "name": "python",
   "nbconvert_exporter": "python",
   "pygments_lexer": "ipython3",
   "version": "3.7.3"
  }
 },
 "nbformat": 4,
 "nbformat_minor": 2
}
