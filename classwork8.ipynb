{
 "cells": [
  {
   "cell_type": "code",
   "execution_count": 2,
   "metadata": {},
   "outputs": [
    {
     "name": "stdout",
     "output_type": "stream",
     "text": [
      "My value is : 6\n"
     ]
    }
   ],
   "source": [
    "class Calculator:\n",
    "    def calculate(self,expression):\n",
    "        return eval(expression)\n",
    "        \n",
    "class Talker:\n",
    "    def talk(self,value):\n",
    "        print('My value is :',value)\n",
    "        \n",
    "class TalkingCalculator(Calculator):\n",
    "    def __init__(self):\n",
    "        self.__talker = Talker()\n",
    "        self.__value = None\n",
    "    \n",
    "    def talk(self):\n",
    "        self.__talker.talk(self.__value)\n",
    "        \n",
    "    def calculate(self,expression):\n",
    "        self.__value = Calculator.calculate(self,expression)\n",
    "        \n",
    "tc = TalkingCalculator()\n",
    "tc.calculate('1+2+3')\n",
    "tc.talk()"
   ]
  },
  {
   "cell_type": "markdown",
   "metadata": {},
   "source": [
    "## si-a has-a"
   ]
  },
  {
   "cell_type": "code",
   "execution_count": 10,
   "metadata": {},
   "outputs": [
    {
     "name": "stdout",
     "output_type": "stream",
     "text": [
      "screwing...\n",
      "cutting...\n"
     ]
    }
   ],
   "source": [
    "class Screwdriver:\n",
    "    def screw(self):\n",
    "        print('screwing...')\n",
    "        \n",
    "class Knife:\n",
    "    def cut(self):\n",
    "        print('cutting...')\n",
    "        \n",
    "class SwissKnife(Screwdriver,Knife):\n",
    "    pass\n",
    "\n",
    "sk = SwissKnife()\n",
    "sk.screw()\n",
    "sk.cut()"
   ]
  },
  {
   "cell_type": "code",
   "execution_count": 9,
   "metadata": {},
   "outputs": [
    {
     "name": "stdout",
     "output_type": "stream",
     "text": [
      "screwing with a screwdriver of size 4...\n",
      "cutting...\n"
     ]
    }
   ],
   "source": [
    "class Screwdriver:\n",
    "    def __init__(self,size):\n",
    "        self.size = size\n",
    "    \n",
    "    def screw(self):\n",
    "        print('screwing with a screwdriver of size {}...'.format(self.size))\n",
    "        \n",
    "class Knife:\n",
    "    def cut(self):\n",
    "        print('cutting...')\n",
    "        \n",
    "class SwissKnife(Screwdriver,Knife):\n",
    "    def __init__(self,screwdriver_size):\n",
    "        Screwdriver.__init__(self,screwdriver_size)\n",
    "        Knife.__init__(self)\n",
    "\n",
    "sk = SwissKnife(4)\n",
    "sk.screw()\n",
    "sk.cut()"
   ]
  },
  {
   "cell_type": "code",
   "execution_count": 26,
   "metadata": {},
   "outputs": [
    {
     "name": "stdout",
     "output_type": "stream",
     "text": [
      "screwing with a screwdriver of size 10...\n",
      "screwing with a screwdriver of size 2...\n",
      "cutting...\n"
     ]
    }
   ],
   "source": [
    "class Screwdriver:\n",
    "    def __init__(self,size):\n",
    "        self.size = size\n",
    "    \n",
    "    def work(self):\n",
    "        print('screwing with a screwdriver of size {}...'.format(self.size))\n",
    "        \n",
    "class Knife:\n",
    "    def work(self):\n",
    "        print('cutting...')\n",
    "        \n",
    "class SwissKnife:\n",
    "    def __init__(self):\n",
    "        self.tools = {}\n",
    "        \n",
    "    def add_tool(self,name,tool):\n",
    "        if callable(getattr(tool,'work',None)):\n",
    "            self.tools[name] = tool\n",
    "        else:\n",
    "            print('{}is not a valid tool,work()not found.'.format(name))\n",
    "    \n",
    "    def use_tool(self,name):\n",
    "        tool = self.tools.get(name)\n",
    "        if tool is not None:\n",
    "            tool.work()\n",
    "        else:\n",
    "            print('{}not found.'.format(name))\n",
    "    \n",
    "\n",
    "sk = SwissKnife()\n",
    "sk.add_tool('Knife',Knife())\n",
    "sk.add_tool('Big screwdriver',Screwdriver(10))\n",
    "sk.add_tool('Small screwdriver',Screwdriver(2))\n",
    "\n",
    "sk.use_tool('Big screwdriver')\n",
    "sk.use_tool('Small screwdriver')\n",
    "sk.use_tool('Knife')"
   ]
  },
  {
   "cell_type": "code",
   "execution_count": 16,
   "metadata": {},
   "outputs": [
    {
     "data": {
      "text/plain": [
       "True"
      ]
     },
     "execution_count": 16,
     "metadata": {},
     "output_type": "execute_result"
    }
   ],
   "source": [
    "knife = Knife()\n",
    "hasattr(knife,'work')"
   ]
  },
  {
   "cell_type": "code",
   "execution_count": 17,
   "metadata": {},
   "outputs": [
    {
     "data": {
      "text/plain": [
       "False"
      ]
     },
     "execution_count": 17,
     "metadata": {},
     "output_type": "execute_result"
    }
   ],
   "source": [
    "hasattr(knife,'cut')"
   ]
  },
  {
   "cell_type": "code",
   "execution_count": 18,
   "metadata": {},
   "outputs": [
    {
     "data": {
      "text/plain": [
       "True"
      ]
     },
     "execution_count": 18,
     "metadata": {},
     "output_type": "execute_result"
    }
   ],
   "source": [
    "callable(getattr(knife,'work'))"
   ]
  },
  {
   "cell_type": "code",
   "execution_count": 19,
   "metadata": {},
   "outputs": [],
   "source": [
    "setattr(knife,'cut',None)"
   ]
  },
  {
   "cell_type": "code",
   "execution_count": 21,
   "metadata": {},
   "outputs": [
    {
     "data": {
      "text/plain": [
       "False"
      ]
     },
     "execution_count": 21,
     "metadata": {},
     "output_type": "execute_result"
    }
   ],
   "source": [
    "callable(getattr(knife,'cut'))"
   ]
  },
  {
   "cell_type": "code",
   "execution_count": 23,
   "metadata": {},
   "outputs": [
    {
     "data": {
      "text/plain": [
       "False"
      ]
     },
     "execution_count": 23,
     "metadata": {},
     "output_type": "execute_result"
    }
   ],
   "source": [
    "callable(getattr(knife,'screw',None))"
   ]
  },
  {
   "cell_type": "code",
   "execution_count": 24,
   "metadata": {},
   "outputs": [
    {
     "data": {
      "text/plain": [
       "{'cut': None}"
      ]
     },
     "execution_count": 24,
     "metadata": {},
     "output_type": "execute_result"
    }
   ],
   "source": [
    "knife.__dict__"
   ]
  },
  {
   "cell_type": "code",
   "execution_count": 31,
   "metadata": {},
   "outputs": [],
   "source": [
    "from abc import ABC,abstractmethod\n",
    "\n",
    "class Tool(ABC):\n",
    "    @abstractmethod\n",
    "    def work(self):\n",
    "        pass"
   ]
  },
  {
   "cell_type": "code",
   "execution_count": 29,
   "metadata": {},
   "outputs": [
    {
     "ename": "TypeError",
     "evalue": "Can't instantiate abstract class Tool with abstract methods work",
     "output_type": "error",
     "traceback": [
      "\u001b[1;31m---------------------------------------------------------------------------\u001b[0m",
      "\u001b[1;31mTypeError\u001b[0m                                 Traceback (most recent call last)",
      "\u001b[1;32m<ipython-input-29-500cbf373131>\u001b[0m in \u001b[0;36m<module>\u001b[1;34m\u001b[0m\n\u001b[1;32m----> 1\u001b[1;33m \u001b[0mtool\u001b[0m \u001b[1;33m=\u001b[0m \u001b[0mTool\u001b[0m\u001b[1;33m(\u001b[0m\u001b[1;33m)\u001b[0m\u001b[1;33m\u001b[0m\u001b[1;33m\u001b[0m\u001b[0m\n\u001b[0m",
      "\u001b[1;31mTypeError\u001b[0m: Can't instantiate abstract class Tool with abstract methods work"
     ]
    }
   ],
   "source": [
    "tool = Tool()"
   ]
  },
  {
   "cell_type": "code",
   "execution_count": 34,
   "metadata": {},
   "outputs": [
    {
     "name": "stdout",
     "output_type": "stream",
     "text": [
      "Dogis not a valid tool,not derived from class Tool.\n",
      "screwing with a screwdriver of size 10...\n",
      "screwing with a screwdriver of size 2...\n",
      "cutting...\n",
      "Picking...\n",
      "Dognot found.\n"
     ]
    }
   ],
   "source": [
    "class Screwdriver(Tool):\n",
    "    def __init__(self,size):\n",
    "        self.size = size\n",
    "    \n",
    "    def work(self):\n",
    "        print('screwing with a screwdriver of size {}...'.format(self.size))\n",
    "        \n",
    "class Knife(Tool):\n",
    "    def work(self):\n",
    "        print('cutting...')\n",
    "        \n",
    "class Fork(Tool):\n",
    "    def work(self):\n",
    "        print('Picking...')\n",
    "\n",
    "class Dog:\n",
    "    def work(self):\n",
    "        print('Chasing a ball...')\n",
    "        \n",
    "class SwissKnife:\n",
    "    def __init__(self):\n",
    "        self.tools = {}\n",
    "        \n",
    "    def add_tool(self,name,tool):\n",
    "        if isinstance(tool,Tool):\n",
    "            self.tools[name] = tool\n",
    "        else:\n",
    "            print('{}is not a valid tool,not derived from class Tool.'.format(name))\n",
    "    \n",
    "    def use_tool(self,name):\n",
    "        tool = self.tools.get(name)\n",
    "        if tool is not None:\n",
    "            tool.work()\n",
    "        else:\n",
    "            print('{}not found.'.format(name))\n",
    "    \n",
    "\n",
    "sk = SwissKnife()\n",
    "sk.add_tool('Knife',Knife())\n",
    "sk.add_tool('Big screwdriver',Screwdriver(10))\n",
    "sk.add_tool('Small screwdriver',Screwdriver(2))\n",
    "sk.add_tool('Fork',Fork())\n",
    "sk.add_tool('Dog',Dog())\n",
    "\n",
    "sk.use_tool('Big screwdriver')\n",
    "sk.use_tool('Small screwdriver')\n",
    "sk.use_tool('Knife')\n",
    "sk.use_tool('Fork')\n",
    "sk.use_tool('Dog')"
   ]
  },
  {
   "cell_type": "markdown",
   "metadata": {},
   "source": [
    "## \n",
    "* 把方法和数据放在一起(class)\n",
    "* 把小的对象提炼出一个独立的类\n",
    "* a是b 还是a包含b\n",
    "* 首先分析场景中有几个东西"
   ]
  },
  {
   "cell_type": "code",
   "execution_count": 14,
   "metadata": {},
   "outputs": [
    {
     "name": "stdout",
     "output_type": "stream",
     "text": [
      "-\r"
     ]
    }
   ],
   "source": [
    "from time import sleep \n",
    "import random \n",
    "\n",
    "class Bar:\n",
    "    __empty = '-'\n",
    "    def  __init__(self,length = 80):\n",
    "        self.bar = list()\n",
    "        for i in range (0,length):\n",
    "            self.bar.append(Bar.__empty)\n",
    "            \n",
    "    def reset(self):\n",
    "        for i in range(len(self.bar)):\n",
    "            self.bar[i] = Bar.__empty\n",
    "            \n",
    "    def update(self,ants):\n",
    "        self.reset()\n",
    "        for ant in ants:\n",
    "            if 0 <= ant.position < len(self.bar):\n",
    "                self.bar[ant.position] = ant.symbol\n",
    "                \n",
    "    def is_empty(self):\n",
    "        for item in self.bar:\n",
    "            if not item ==Bar.__empty:\n",
    "                return False\n",
    "        else:\n",
    "            return True\n",
    "        \n",
    "    def show(self):\n",
    "        for ch in self.bar:\n",
    "            print(ch,sep='',end='')\n",
    "            print('',end = '\\r')\n",
    "            \n",
    "class Ant:\n",
    "    symbols = 'ABCDEFGHIJKLMNOPQRSTUVWXYZ'\n",
    "    count = 0\n",
    "    def __init__(self,position,direction,symbol=None):\n",
    "        self.position = position\n",
    "        self.direction = direction\n",
    "        if symbol is None:\n",
    "            self.symbol = Ant.symbols[Ant.count]\n",
    "            Ant.count += 1\n",
    "        else :\n",
    "            self.symbol = symbol\n",
    "        \n",
    "    def move(self):\n",
    "        self.position += self.direction\n",
    "        \n",
    "    def create_random_ant(length = 80):\n",
    "        position  = random.randint(0, length - 1)   ##randint()是闭区间\n",
    "        direction = random.choice([1,-1])\n",
    "        return Ant(position,direction)\n",
    "    \n",
    "class Ants:\n",
    "    def __init__(self,count = 3):\n",
    "        self.ants = list()\n",
    "        for i in range(count):\n",
    "            self.ants.append(Ant.create_random_ant())\n",
    "            \n",
    "    def move(self):\n",
    "        for ant in self.ants:\n",
    "            ant.move()\n",
    "            \n",
    "    def get_ants(self):\n",
    "        return self.ants\n",
    "    \n",
    "bar = Bar(80)\n",
    "ants = Ants(5)\n",
    "\n",
    "bar.update(ants.get_ants())\n",
    "bar.show()\n",
    "\n",
    "while not bar.is_empty():\n",
    "    sleep(0.25)\n",
    "    ants.move()\n",
    "    bar.update(ants.get_ants())\n",
    "    bar.show()        "
   ]
  },
  {
   "cell_type": "markdown",
   "metadata": {},
   "source": [
    "## 异常处理"
   ]
  },
  {
   "cell_type": "code",
   "execution_count": 38,
   "metadata": {},
   "outputs": [
    {
     "ename": "ZeroDivisionError",
     "evalue": "division by zero",
     "output_type": "error",
     "traceback": [
      "\u001b[1;31m---------------------------------------------------------------------------\u001b[0m",
      "\u001b[1;31mZeroDivisionError\u001b[0m                         Traceback (most recent call last)",
      "\u001b[1;32m<ipython-input-38-9e1622b385b6>\u001b[0m in \u001b[0;36m<module>\u001b[1;34m\u001b[0m\n\u001b[1;32m----> 1\u001b[1;33m \u001b[1;36m1\u001b[0m\u001b[1;33m/\u001b[0m\u001b[1;36m0\u001b[0m\u001b[1;33m\u001b[0m\u001b[1;33m\u001b[0m\u001b[0m\n\u001b[0m",
      "\u001b[1;31mZeroDivisionError\u001b[0m: division by zero"
     ]
    }
   ],
   "source": [
    "1/0"
   ]
  },
  {
   "cell_type": "code",
   "execution_count": 39,
   "metadata": {},
   "outputs": [
    {
     "ename": "Exception",
     "evalue": "",
     "output_type": "error",
     "traceback": [
      "\u001b[1;31m---------------------------------------------------------------------------\u001b[0m",
      "\u001b[1;31mException\u001b[0m                                 Traceback (most recent call last)",
      "\u001b[1;32m<ipython-input-39-2aee0157c87b>\u001b[0m in \u001b[0;36m<module>\u001b[1;34m\u001b[0m\n\u001b[1;32m----> 1\u001b[1;33m \u001b[1;32mraise\u001b[0m \u001b[0mException\u001b[0m\u001b[1;33m\u001b[0m\u001b[1;33m\u001b[0m\u001b[0m\n\u001b[0m",
      "\u001b[1;31mException\u001b[0m: "
     ]
    }
   ],
   "source": [
    "raise Exception"
   ]
  },
  {
   "cell_type": "code",
   "execution_count": 40,
   "metadata": {},
   "outputs": [
    {
     "ename": "Exception",
     "evalue": "System fault.",
     "output_type": "error",
     "traceback": [
      "\u001b[1;31m---------------------------------------------------------------------------\u001b[0m",
      "\u001b[1;31mException\u001b[0m                                 Traceback (most recent call last)",
      "\u001b[1;32m<ipython-input-40-70fa745d48e3>\u001b[0m in \u001b[0;36m<module>\u001b[1;34m\u001b[0m\n\u001b[1;32m----> 1\u001b[1;33m \u001b[1;32mraise\u001b[0m \u001b[0mException\u001b[0m\u001b[1;33m(\u001b[0m\u001b[1;34m'System fault.'\u001b[0m\u001b[1;33m)\u001b[0m\u001b[1;33m\u001b[0m\u001b[1;33m\u001b[0m\u001b[0m\n\u001b[0m",
      "\u001b[1;31mException\u001b[0m: System fault."
     ]
    }
   ],
   "source": [
    "raise Exception('System fault.')"
   ]
  },
  {
   "cell_type": "code",
   "execution_count": 41,
   "metadata": {},
   "outputs": [
    {
     "ename": "MyException",
     "evalue": "",
     "output_type": "error",
     "traceback": [
      "\u001b[1;31m---------------------------------------------------------------------------\u001b[0m",
      "\u001b[1;31mMyException\u001b[0m                               Traceback (most recent call last)",
      "\u001b[1;32m<ipython-input-41-c35f6eb592b4>\u001b[0m in \u001b[0;36m<module>\u001b[1;34m\u001b[0m\n\u001b[0;32m      1\u001b[0m \u001b[1;32mclass\u001b[0m \u001b[0mMyException\u001b[0m\u001b[1;33m(\u001b[0m\u001b[0mException\u001b[0m\u001b[1;33m)\u001b[0m\u001b[1;33m:\u001b[0m\u001b[1;32mpass\u001b[0m\u001b[1;33m\u001b[0m\u001b[1;33m\u001b[0m\u001b[0m\n\u001b[0;32m      2\u001b[0m \u001b[1;33m\u001b[0m\u001b[0m\n\u001b[1;32m----> 3\u001b[1;33m \u001b[1;32mraise\u001b[0m \u001b[0mMyException\u001b[0m\u001b[1;33m(\u001b[0m\u001b[1;33m)\u001b[0m\u001b[1;33m\u001b[0m\u001b[1;33m\u001b[0m\u001b[0m\n\u001b[0m",
      "\u001b[1;31mMyException\u001b[0m: "
     ]
    }
   ],
   "source": [
    "class MyException(Exception):pass\n",
    "\n",
    "raise MyException()"
   ]
  },
  {
   "cell_type": "code",
   "execution_count": 43,
   "metadata": {},
   "outputs": [
    {
     "name": "stdout",
     "output_type": "stream",
     "text": [
      "Please input a number:1\n",
      "Please input a number:0\n",
      "The second number cannot be 0!\n"
     ]
    }
   ],
   "source": [
    "try:\n",
    "    x = int(input('Please input a number:'))\n",
    "    y = int(input('Please input a number:'))\n",
    "    print('{}/{}={}'.format(x,y,x/y))\n",
    "    print('hello')\n",
    "except ZeroDivisionError:\n",
    "    print('The second number cannot be 0!')"
   ]
  },
  {
   "cell_type": "code",
   "execution_count": 50,
   "metadata": {},
   "outputs": [],
   "source": [
    "def calc(expression,no_throw=False):\n",
    "    try:\n",
    "        return eval(expression)\n",
    "    except ZeroDivisionError:\n",
    "        if no_throw:\n",
    "            print('Division by zero.')\n",
    "        else: raise ValueError from None"
   ]
  },
  {
   "cell_type": "code",
   "execution_count": 51,
   "metadata": {
    "scrolled": true
   },
   "outputs": [
    {
     "ename": "ValueError",
     "evalue": "",
     "output_type": "error",
     "traceback": [
      "\u001b[1;31m---------------------------------------------------------------------------\u001b[0m",
      "\u001b[1;31mValueError\u001b[0m                                Traceback (most recent call last)",
      "\u001b[1;32m<ipython-input-51-0afddcb032f4>\u001b[0m in \u001b[0;36m<module>\u001b[1;34m\u001b[0m\n\u001b[1;32m----> 1\u001b[1;33m \u001b[0mcalc\u001b[0m\u001b[1;33m(\u001b[0m\u001b[1;34m'10/0'\u001b[0m\u001b[1;33m)\u001b[0m\u001b[1;33m\u001b[0m\u001b[1;33m\u001b[0m\u001b[0m\n\u001b[0m",
      "\u001b[1;32m<ipython-input-50-9733f1255274>\u001b[0m in \u001b[0;36mcalc\u001b[1;34m(expression, no_throw)\u001b[0m\n\u001b[0;32m      5\u001b[0m         \u001b[1;32mif\u001b[0m \u001b[0mno_throw\u001b[0m\u001b[1;33m:\u001b[0m\u001b[1;33m\u001b[0m\u001b[1;33m\u001b[0m\u001b[0m\n\u001b[0;32m      6\u001b[0m             \u001b[0mprint\u001b[0m\u001b[1;33m(\u001b[0m\u001b[1;34m'Division by zero.'\u001b[0m\u001b[1;33m)\u001b[0m\u001b[1;33m\u001b[0m\u001b[1;33m\u001b[0m\u001b[0m\n\u001b[1;32m----> 7\u001b[1;33m         \u001b[1;32melse\u001b[0m\u001b[1;33m:\u001b[0m \u001b[1;32mraise\u001b[0m \u001b[0mValueError\u001b[0m \u001b[1;32mfrom\u001b[0m \u001b[1;32mNone\u001b[0m\u001b[1;33m\u001b[0m\u001b[1;33m\u001b[0m\u001b[0m\n\u001b[0m",
      "\u001b[1;31mValueError\u001b[0m: "
     ]
    }
   ],
   "source": [
    "calc('10/0')"
   ]
  },
  {
   "cell_type": "code",
   "execution_count": 49,
   "metadata": {},
   "outputs": [
    {
     "name": "stdout",
     "output_type": "stream",
     "text": [
      "Division by zero.\n"
     ]
    }
   ],
   "source": [
    "calc('10/0',True)"
   ]
  },
  {
   "cell_type": "code",
   "execution_count": 55,
   "metadata": {},
   "outputs": [
    {
     "name": "stdout",
     "output_type": "stream",
     "text": [
      "Please input a number:a\n",
      "Invalid value.\n"
     ]
    }
   ],
   "source": [
    "try:\n",
    "    x = int(input('Please input a number:'))\n",
    "    y = int(input('Please input a number:'))\n",
    "    print('{}/{}={}'.format(x,y,x/y))\n",
    "    print('hello')\n",
    "except ZeroDivisionError:\n",
    "    print('The second number cannot be 0!')\n",
    "except ValueError:\n",
    "    print('Invalid value.')"
   ]
  },
  {
   "cell_type": "code",
   "execution_count": 57,
   "metadata": {},
   "outputs": [
    {
     "name": "stdout",
     "output_type": "stream",
     "text": [
      "Please input a number:1\n",
      "Please input a number:0\n",
      "division by zero\n"
     ]
    }
   ],
   "source": [
    "try:\n",
    "    x = int(input('Please input a number:'))\n",
    "    y = int(input('Please input a number:'))\n",
    "    print('{}/{}={}'.format(x,y,x/y))\n",
    "    print('hello')\n",
    "except (ZeroDivisionError,ValueError)as e:\n",
    "     print(e)"
   ]
  },
  {
   "cell_type": "code",
   "execution_count": 59,
   "metadata": {},
   "outputs": [
    {
     "name": "stdout",
     "output_type": "stream",
     "text": [
      "Please input a number:a\n",
      "invalid literal for int() with base 10: 'a'\n",
      "Please input a number:1\n",
      "Please input a number:2\n",
      "1/2=0.5\n"
     ]
    }
   ],
   "source": [
    "while True:\n",
    "    try:\n",
    "        x = int(input('Please input a number:'))\n",
    "        y = int(input('Please input a number:'))\n",
    "        print('{}/{}={}'.format(x,y,x/y))\n",
    "    except (ZeroDivisionError,ValueError)as e:\n",
    "        print(e)\n",
    "    else:break"
   ]
  },
  {
   "cell_type": "code",
   "execution_count": 62,
   "metadata": {},
   "outputs": [
    {
     "name": "stdout",
     "output_type": "stream",
     "text": [
      "cleaning up...\n"
     ]
    },
    {
     "ename": "ZeroDivisionError",
     "evalue": "division by zero",
     "output_type": "error",
     "traceback": [
      "\u001b[1;31m---------------------------------------------------------------------------\u001b[0m",
      "\u001b[1;31mZeroDivisionError\u001b[0m                         Traceback (most recent call last)",
      "\u001b[1;32m<ipython-input-62-1721987cf209>\u001b[0m in \u001b[0;36m<module>\u001b[1;34m\u001b[0m\n\u001b[0;32m      1\u001b[0m \u001b[0mx\u001b[0m \u001b[1;33m=\u001b[0m \u001b[1;32mNone\u001b[0m\u001b[1;33m\u001b[0m\u001b[1;33m\u001b[0m\u001b[0m\n\u001b[0;32m      2\u001b[0m \u001b[1;32mtry\u001b[0m\u001b[1;33m:\u001b[0m\u001b[1;33m\u001b[0m\u001b[1;33m\u001b[0m\u001b[0m\n\u001b[1;32m----> 3\u001b[1;33m     \u001b[0mx\u001b[0m \u001b[1;33m=\u001b[0m \u001b[1;36m1\u001b[0m\u001b[1;33m/\u001b[0m\u001b[1;36m0\u001b[0m\u001b[1;33m\u001b[0m\u001b[1;33m\u001b[0m\u001b[0m\n\u001b[0m\u001b[0;32m      4\u001b[0m \u001b[1;32mfinally\u001b[0m\u001b[1;33m:\u001b[0m\u001b[1;33m\u001b[0m\u001b[1;33m\u001b[0m\u001b[0m\n\u001b[0;32m      5\u001b[0m     \u001b[0mprint\u001b[0m\u001b[1;33m(\u001b[0m\u001b[1;34m'cleaning up...'\u001b[0m\u001b[1;33m)\u001b[0m\u001b[1;33m\u001b[0m\u001b[1;33m\u001b[0m\u001b[0m\n",
      "\u001b[1;31mZeroDivisionError\u001b[0m: division by zero"
     ]
    }
   ],
   "source": [
    "x = None                        \n",
    "try:                                      ##finally 可以做资源释放\n",
    "    x = 1/0\n",
    "finally:\n",
    "    print('cleaning up...')\n",
    " #   del x"
   ]
  },
  {
   "cell_type": "code",
   "execution_count": 65,
   "metadata": {},
   "outputs": [
    {
     "name": "stdout",
     "output_type": "stream",
     "text": [
      "outer...before call inner.\n",
      "inner...\n"
     ]
    },
    {
     "ename": "Exception",
     "evalue": "",
     "output_type": "error",
     "traceback": [
      "\u001b[1;31m---------------------------------------------------------------------------\u001b[0m",
      "\u001b[1;31mException\u001b[0m                                 Traceback (most recent call last)",
      "\u001b[1;32m<ipython-input-65-310af957c3f9>\u001b[0m in \u001b[0;36m<module>\u001b[1;34m\u001b[0m\n\u001b[0;32m      8\u001b[0m     \u001b[0mprint\u001b[0m\u001b[1;33m(\u001b[0m\u001b[1;34m'outer...after calling inner.'\u001b[0m\u001b[1;33m)\u001b[0m\u001b[1;33m\u001b[0m\u001b[1;33m\u001b[0m\u001b[0m\n\u001b[0;32m      9\u001b[0m \u001b[1;33m\u001b[0m\u001b[0m\n\u001b[1;32m---> 10\u001b[1;33m \u001b[0mouter\u001b[0m\u001b[1;33m(\u001b[0m\u001b[1;33m)\u001b[0m\u001b[1;33m\u001b[0m\u001b[1;33m\u001b[0m\u001b[0m\n\u001b[0m",
      "\u001b[1;32m<ipython-input-65-310af957c3f9>\u001b[0m in \u001b[0;36mouter\u001b[1;34m()\u001b[0m\n\u001b[0;32m      5\u001b[0m \u001b[1;32mdef\u001b[0m \u001b[0mouter\u001b[0m\u001b[1;33m(\u001b[0m\u001b[1;33m)\u001b[0m\u001b[1;33m:\u001b[0m\u001b[1;33m\u001b[0m\u001b[1;33m\u001b[0m\u001b[0m\n\u001b[0;32m      6\u001b[0m     \u001b[0mprint\u001b[0m\u001b[1;33m(\u001b[0m\u001b[1;34m'outer...before call inner.'\u001b[0m\u001b[1;33m)\u001b[0m\u001b[1;33m\u001b[0m\u001b[1;33m\u001b[0m\u001b[0m\n\u001b[1;32m----> 7\u001b[1;33m     \u001b[0minner\u001b[0m\u001b[1;33m(\u001b[0m\u001b[1;33m)\u001b[0m\u001b[1;33m\u001b[0m\u001b[1;33m\u001b[0m\u001b[0m\n\u001b[0m\u001b[0;32m      8\u001b[0m     \u001b[0mprint\u001b[0m\u001b[1;33m(\u001b[0m\u001b[1;34m'outer...after calling inner.'\u001b[0m\u001b[1;33m)\u001b[0m\u001b[1;33m\u001b[0m\u001b[1;33m\u001b[0m\u001b[0m\n\u001b[0;32m      9\u001b[0m \u001b[1;33m\u001b[0m\u001b[0m\n",
      "\u001b[1;32m<ipython-input-65-310af957c3f9>\u001b[0m in \u001b[0;36minner\u001b[1;34m()\u001b[0m\n\u001b[0;32m      1\u001b[0m \u001b[1;32mdef\u001b[0m \u001b[0minner\u001b[0m\u001b[1;33m(\u001b[0m\u001b[1;33m)\u001b[0m\u001b[1;33m:\u001b[0m\u001b[1;33m\u001b[0m\u001b[1;33m\u001b[0m\u001b[0m\n\u001b[0;32m      2\u001b[0m     \u001b[0mprint\u001b[0m\u001b[1;33m(\u001b[0m\u001b[1;34m'inner...'\u001b[0m\u001b[1;33m)\u001b[0m\u001b[1;33m\u001b[0m\u001b[1;33m\u001b[0m\u001b[0m\n\u001b[1;32m----> 3\u001b[1;33m     \u001b[1;32mraise\u001b[0m \u001b[0mException\u001b[0m\u001b[1;33m\u001b[0m\u001b[1;33m\u001b[0m\u001b[0m\n\u001b[0m\u001b[0;32m      4\u001b[0m \u001b[1;33m\u001b[0m\u001b[0m\n\u001b[0;32m      5\u001b[0m \u001b[1;32mdef\u001b[0m \u001b[0mouter\u001b[0m\u001b[1;33m(\u001b[0m\u001b[1;33m)\u001b[0m\u001b[1;33m:\u001b[0m\u001b[1;33m\u001b[0m\u001b[1;33m\u001b[0m\u001b[0m\n",
      "\u001b[1;31mException\u001b[0m: "
     ]
    }
   ],
   "source": [
    "def inner():\n",
    "    print('inner...')\n",
    "    raise Exception\n",
    "    \n",
    "def outer():\n",
    "    print('outer...before call inner.')\n",
    "    inner()\n",
    "    print('outer...after calling inner.')\n",
    "    \n",
    "outer()"
   ]
  },
  {
   "cell_type": "code",
   "execution_count": null,
   "metadata": {},
   "outputs": [],
   "source": []
  }
 ],
 "metadata": {
  "kernelspec": {
   "display_name": "Python 3",
   "language": "python",
   "name": "python3"
  },
  "language_info": {
   "codemirror_mode": {
    "name": "ipython",
    "version": 3
   },
   "file_extension": ".py",
   "mimetype": "text/x-python",
   "name": "python",
   "nbconvert_exporter": "python",
   "pygments_lexer": "ipython3",
   "version": "3.7.3"
  }
 },
 "nbformat": 4,
 "nbformat_minor": 2
}
